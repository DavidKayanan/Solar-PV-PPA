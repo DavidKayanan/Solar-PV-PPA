{
 "cells": [
  {
   "cell_type": "markdown",
   "metadata": {},
   "source": [
    "Notes: <br>\n",
    "* Money in 2020 USD"
   ]
  },
  {
   "cell_type": "code",
   "execution_count": 2,
   "metadata": {},
   "outputs": [],
   "source": [
    "#PathProj = 'C:\\\\Users\\\\dkayanan\\\\Google Drive\\\\Projects\\\\Solar PV financial modelling'\n",
    "PathProj = 'C:\\\\Users\\\\Dave\\\\GoogleDrive\\\\Projects\\\\Solar PV financial modelling'\n",
    "from os import path\n",
    "import sys \n",
    "sys.path.append(PathProj)\n",
    "\n",
    "from PV_financial import *"
   ]
  },
  {
   "cell_type": "markdown",
   "metadata": {},
   "source": [
    "**Note:** Steps 1-2 define parameters used in whole ntbk.\n",
    "<h3><i><font color=#117A65>1) System size and investment costs</font></i></h3></font>"
   ]
  },
  {
   "cell_type": "code",
   "execution_count": 22,
   "metadata": {},
   "outputs": [
    {
     "data": {
      "text/plain": [
       "PV panels              95880.0\n",
       "inveter                16320.0\n",
       "BOS (w/o inverter)     48960.0\n",
       "installation labor     32640.0\n",
       "other soft costs      177480.0\n",
       "Name: USD 2020, dtype: float64"
      ]
     },
     "metadata": {},
     "output_type": "display_data"
    },
    {
     "name": "stdout",
     "output_type": "stream",
     "text": [
      "Total: 371280.0\n"
     ]
    }
   ],
   "source": [
    "Sys_kW = 200\n",
    "SysCost_breakdown = est_systemcosts(Sys_kW)\n",
    "SysCost = SysCost_breakdown.sum()\n",
    "\n",
    "display(SysCost_breakdown)\n",
    "print('Total: {}'.format(SysCost))"
   ]
  },
  {
   "cell_type": "markdown",
   "metadata": {},
   "source": [
    "Note: link the tax credit info here"
   ]
  },
  {
   "cell_type": "code",
   "execution_count": 23,
   "metadata": {},
   "outputs": [
    {
     "data": {
      "text/plain": [
       "274747.2"
      ]
     },
     "execution_count": 23,
     "metadata": {},
     "output_type": "execute_result"
    }
   ],
   "source": [
    "tax_credit_perc = 26\n",
    "\n",
    "InvCost = SysCost * (1-tax_credit_perc/100)\n",
    "InvCost"
   ]
  },
  {
   "cell_type": "markdown",
   "metadata": {},
   "source": [
    "<h3><i><font color=#117A65>2) Cash flow parameters</font></i></h3></font>"
   ]
  },
  {
   "cell_type": "code",
   "execution_count": 24,
   "metadata": {
    "scrolled": true
   },
   "outputs": [
    {
     "name": "stdout",
     "output_type": "stream",
     "text": [
      "Resale value % of investment costs: 73.81%\n"
     ]
    }
   ],
   "source": [
    "# ---------------------------------------------------- a) Pricing\n",
    "# cents/kWh\n",
    "current_tariff = 15.57 \n",
    "PPA_elec_price  = 13.50\n",
    "\n",
    "# ---------------------------------------------------- b) Lease duration\n",
    "L = 15\n",
    "\n",
    "# ---------------------------------------------------- c) solar yield (kWh AC per yr)\n",
    "# kWh_AC/kW_DC per year\n",
    "solar_yield = 1666\n",
    "\n",
    "# Degradation [%]\n",
    "deg_early = 1\n",
    "deg_cons = 0.5\n",
    "\n",
    "# ---------------------------------------------------- d) Resale value\n",
    "discount = 0.1\n",
    "EndLease_resale = (1-tax_credit_perc/100) * calc_resale(L, Sys_kW, solar_yield, PPA_elec_price, useful_life=25, discount=discount, deg_early=deg_early, deg_cons=deg_cons)\n",
    "\n",
    "print('Resale value % of investment costs: {:.2f}%'.format(EndLease_resale/InvCost*100))"
   ]
  },
  {
   "cell_type": "code",
   "execution_count": null,
   "metadata": {},
   "outputs": [],
   "source": [
    "#NPV_Lplus = calc_resale(L, Sys_kW, solar_yield, PPA_elec_price, useful_life=25, discount=discount, deg_early=deg_early, deg_cons=deg_cons)\n",
    "#display(NPV_Lplus, InvCost)"
   ]
  },
  {
   "cell_type": "code",
   "execution_count": 25,
   "metadata": {},
   "outputs": [
    {
     "data": {
      "text/plain": [
       "array([-274747.2 ,   44982.  ,   44532.18,   44307.27,   44082.36,\n",
       "         43857.45,   43632.54,   43407.63,   43182.72,   42957.81,\n",
       "         42732.9 ,   42507.99,   42283.08,   42058.17,   41833.26,\n",
       "        244403.87])"
      ]
     },
     "execution_count": 25,
     "metadata": {},
     "output_type": "execute_result"
    }
   ],
   "source": [
    "cashflows, AnnualProduction_kWh = calc_cashflows(InvCost, Sys_kW, solar_yield, PPA_elec_price, L, EndLease_resale, deg_early, deg_cons)\n",
    "cashflows"
   ]
  },
  {
   "cell_type": "code",
   "execution_count": null,
   "metadata": {},
   "outputs": [],
   "source": [
    "plot_cashflows_solaronly(cashflows, EndLease_resale, figsize=(8,3), save_as='Base - solar revenue.png')"
   ]
  },
  {
   "cell_type": "code",
   "execution_count": null,
   "metadata": {},
   "outputs": [],
   "source": [
    "plot_cashflows_all(cashflows, EndLease_resale, figsize=(8,5), save_as='Base - all cash flows.png')"
   ]
  },
  {
   "cell_type": "code",
   "execution_count": null,
   "metadata": {},
   "outputs": [],
   "source": [
    "#  Interest rate    Resale % of system cost\n",
    "#  8%               79%\n",
    "#  10%              73%\n",
    "#  12%              69%"
   ]
  },
  {
   "cell_type": "markdown",
   "metadata": {},
   "source": [
    "<h3><i><font color=#117A65>3) Feasibility metrics</font></i></h3></font>"
   ]
  },
  {
   "cell_type": "code",
   "execution_count": 26,
   "metadata": {},
   "outputs": [
    {
     "data": {
      "text/plain": [
       "0.15400670423654828"
      ]
     },
     "execution_count": 26,
     "metadata": {},
     "output_type": "execute_result"
    }
   ],
   "source": [
    "npf.irr(cashflows)"
   ]
  },
  {
   "cell_type": "code",
   "execution_count": null,
   "metadata": {},
   "outputs": [],
   "source": [
    "display(npf.npv(0.1, cashflows), InvCost)"
   ]
  },
  {
   "cell_type": "code",
   "execution_count": null,
   "metadata": {},
   "outputs": [],
   "source": [
    "# Payback\n",
    "pd.Series(cashflows).cumsum()"
   ]
  },
  {
   "cell_type": "code",
   "execution_count": null,
   "metadata": {},
   "outputs": [],
   "source": [
    "93534/434076"
   ]
  },
  {
   "cell_type": "markdown",
   "metadata": {},
   "source": [
    "<h3><i><font color=#CB4335>4) PPA pricing</font></i></h3></font>"
   ]
  },
  {
   "cell_type": "code",
   "execution_count": 6,
   "metadata": {},
   "outputs": [],
   "source": [
    "PPA_prices = (7.5, 22)\n",
    "\n",
    "EndLease_resale = 0.75*InvCost\n",
    "\n",
    "mark_tariffs = {\n",
    "    '2006-2010': (13.61, 16.73),\n",
    "    '2011-2017': (14.14, 21.78),\n",
    "}\n",
    "\n",
    "# ---------------------------------------------------------------------------\n",
    "PPA_prices = np.linspace(*PPA_prices)\n",
    "iir_vals = np.zeros_like(PPA_prices)\n",
    "\n",
    "for idx, _price in enumerate(PPA_prices):\n",
    "    cashflows, AnnualProduction_kWh = calc_cashflows(InvCost, Sys_kW, solar_yield, _price, L, EndLease_resale, deg_early, deg_cons)\n",
    "    iir_vals[idx] = npf.irr(cashflows)"
   ]
  },
  {
   "cell_type": "code",
   "execution_count": 16,
   "metadata": {},
   "outputs": [
    {
     "data": {
      "image/png": "[encoded data removed]",
      "text/plain": [
       "<Figure size 432x302.4 with 1 Axes>"
      ]
     },
     "metadata": {
      "needs_background": "light"
     },
     "output_type": "display_data"
    }
   ],
   "source": [
    "plot_Price_vs_irr(PPA_prices, iir_vals, grid=True, mark_tariffs=mark_tariffs, figsize=(6,4.2), xlabel='PPA energy price (US¢/kWh)',\n",
    "                 title='{}-Year IRR vs. Solar Energy Price'.format(L), save_as='PPA pricing.png')"
   ]
  },
  {
   "cell_type": "code",
   "execution_count": 28,
   "metadata": {},
   "outputs": [],
   "source": [
    "from scipy import stats"
   ]
  },
  {
   "cell_type": "code",
   "execution_count": 27,
   "metadata": {},
   "outputs": [
    {
     "data": {
      "text/plain": [
       "LinregressResult(slope=0.01243474336674642, intercept=-0.013906797279516908, rvalue=0.9999864387756611, pvalue=2.876644145288827e-111, stderr=9.34727614388731e-06)"
      ]
     },
     "execution_count": 27,
     "metadata": {},
     "output_type": "execute_result"
    }
   ],
   "source": [
    "stats.linregress(PPA_prices, iir_vals)"
   ]
  },
  {
   "cell_type": "code",
   "execution_count": 29,
   "metadata": {
    "collapsed": true
   },
   "outputs": [
    {
     "data": {
      "text/html": [
       "<div>\n",
       "<style scoped>\n",
       "    .dataframe tbody tr th:only-of-type {\n",
       "        vertical-align: middle;\n",
       "    }\n",
       "\n",
       "    .dataframe tbody tr th {\n",
       "        vertical-align: top;\n",
       "    }\n",
       "\n",
       "    .dataframe thead th {\n",
       "        text-align: right;\n",
       "    }\n",
       "</style>\n",
       "<table border=\"1\" class=\"dataframe\">\n",
       "  <thead>\n",
       "    <tr style=\"text-align: right;\">\n",
       "      <th></th>\n",
       "      <th>PPA price</th>\n",
       "      <th>IRR</th>\n",
       "    </tr>\n",
       "  </thead>\n",
       "  <tbody>\n",
       "    <tr>\n",
       "      <th>0</th>\n",
       "      <td>7.500000</td>\n",
       "      <td>0.078695</td>\n",
       "    </tr>\n",
       "    <tr>\n",
       "      <th>1</th>\n",
       "      <td>7.795918</td>\n",
       "      <td>0.082466</td>\n",
       "    </tr>\n",
       "    <tr>\n",
       "      <th>2</th>\n",
       "      <td>8.091837</td>\n",
       "      <td>0.086232</td>\n",
       "    </tr>\n",
       "    <tr>\n",
       "      <th>3</th>\n",
       "      <td>8.387755</td>\n",
       "      <td>0.089992</td>\n",
       "    </tr>\n",
       "    <tr>\n",
       "      <th>4</th>\n",
       "      <td>8.683673</td>\n",
       "      <td>0.093748</td>\n",
       "    </tr>\n",
       "    <tr>\n",
       "      <th>5</th>\n",
       "      <td>8.979592</td>\n",
       "      <td>0.097499</td>\n",
       "    </tr>\n",
       "    <tr>\n",
       "      <th>6</th>\n",
       "      <td>9.275510</td>\n",
       "      <td>0.101245</td>\n",
       "    </tr>\n",
       "    <tr>\n",
       "      <th>7</th>\n",
       "      <td>9.571429</td>\n",
       "      <td>0.104986</td>\n",
       "    </tr>\n",
       "    <tr>\n",
       "      <th>8</th>\n",
       "      <td>9.867347</td>\n",
       "      <td>0.108722</td>\n",
       "    </tr>\n",
       "    <tr>\n",
       "      <th>9</th>\n",
       "      <td>10.163265</td>\n",
       "      <td>0.112455</td>\n",
       "    </tr>\n",
       "    <tr>\n",
       "      <th>10</th>\n",
       "      <td>10.459184</td>\n",
       "      <td>0.116182</td>\n",
       "    </tr>\n",
       "    <tr>\n",
       "      <th>11</th>\n",
       "      <td>10.755102</td>\n",
       "      <td>0.119906</td>\n",
       "    </tr>\n",
       "    <tr>\n",
       "      <th>12</th>\n",
       "      <td>11.051020</td>\n",
       "      <td>0.123625</td>\n",
       "    </tr>\n",
       "    <tr>\n",
       "      <th>13</th>\n",
       "      <td>11.346939</td>\n",
       "      <td>0.127341</td>\n",
       "    </tr>\n",
       "    <tr>\n",
       "      <th>14</th>\n",
       "      <td>11.642857</td>\n",
       "      <td>0.131052</td>\n",
       "    </tr>\n",
       "    <tr>\n",
       "      <th>15</th>\n",
       "      <td>11.938776</td>\n",
       "      <td>0.134760</td>\n",
       "    </tr>\n",
       "    <tr>\n",
       "      <th>16</th>\n",
       "      <td>12.234694</td>\n",
       "      <td>0.138464</td>\n",
       "    </tr>\n",
       "    <tr>\n",
       "      <th>17</th>\n",
       "      <td>12.530612</td>\n",
       "      <td>0.142164</td>\n",
       "    </tr>\n",
       "    <tr>\n",
       "      <th>18</th>\n",
       "      <td>12.826531</td>\n",
       "      <td>0.145861</td>\n",
       "    </tr>\n",
       "    <tr>\n",
       "      <th>19</th>\n",
       "      <td>13.122449</td>\n",
       "      <td>0.149554</td>\n",
       "    </tr>\n",
       "    <tr>\n",
       "      <th>20</th>\n",
       "      <td>13.418367</td>\n",
       "      <td>0.153245</td>\n",
       "    </tr>\n",
       "    <tr>\n",
       "      <th>21</th>\n",
       "      <td>13.714286</td>\n",
       "      <td>0.156931</td>\n",
       "    </tr>\n",
       "    <tr>\n",
       "      <th>22</th>\n",
       "      <td>14.010204</td>\n",
       "      <td>0.160615</td>\n",
       "    </tr>\n",
       "    <tr>\n",
       "      <th>23</th>\n",
       "      <td>14.306122</td>\n",
       "      <td>0.164295</td>\n",
       "    </tr>\n",
       "    <tr>\n",
       "      <th>24</th>\n",
       "      <td>14.602041</td>\n",
       "      <td>0.167973</td>\n",
       "    </tr>\n",
       "    <tr>\n",
       "      <th>25</th>\n",
       "      <td>14.897959</td>\n",
       "      <td>0.171647</td>\n",
       "    </tr>\n",
       "    <tr>\n",
       "      <th>26</th>\n",
       "      <td>15.193878</td>\n",
       "      <td>0.175319</td>\n",
       "    </tr>\n",
       "    <tr>\n",
       "      <th>27</th>\n",
       "      <td>15.489796</td>\n",
       "      <td>0.178988</td>\n",
       "    </tr>\n",
       "    <tr>\n",
       "      <th>28</th>\n",
       "      <td>15.785714</td>\n",
       "      <td>0.182655</td>\n",
       "    </tr>\n",
       "    <tr>\n",
       "      <th>29</th>\n",
       "      <td>16.081633</td>\n",
       "      <td>0.186318</td>\n",
       "    </tr>\n",
       "    <tr>\n",
       "      <th>30</th>\n",
       "      <td>16.377551</td>\n",
       "      <td>0.189980</td>\n",
       "    </tr>\n",
       "    <tr>\n",
       "      <th>31</th>\n",
       "      <td>16.673469</td>\n",
       "      <td>0.193638</td>\n",
       "    </tr>\n",
       "    <tr>\n",
       "      <th>32</th>\n",
       "      <td>16.969388</td>\n",
       "      <td>0.197295</td>\n",
       "    </tr>\n",
       "    <tr>\n",
       "      <th>33</th>\n",
       "      <td>17.265306</td>\n",
       "      <td>0.200949</td>\n",
       "    </tr>\n",
       "    <tr>\n",
       "      <th>34</th>\n",
       "      <td>17.561224</td>\n",
       "      <td>0.204601</td>\n",
       "    </tr>\n",
       "    <tr>\n",
       "      <th>35</th>\n",
       "      <td>17.857143</td>\n",
       "      <td>0.208250</td>\n",
       "    </tr>\n",
       "    <tr>\n",
       "      <th>36</th>\n",
       "      <td>18.153061</td>\n",
       "      <td>0.211898</td>\n",
       "    </tr>\n",
       "    <tr>\n",
       "      <th>37</th>\n",
       "      <td>18.448980</td>\n",
       "      <td>0.215543</td>\n",
       "    </tr>\n",
       "    <tr>\n",
       "      <th>38</th>\n",
       "      <td>18.744898</td>\n",
       "      <td>0.219187</td>\n",
       "    </tr>\n",
       "    <tr>\n",
       "      <th>39</th>\n",
       "      <td>19.040816</td>\n",
       "      <td>0.222828</td>\n",
       "    </tr>\n",
       "    <tr>\n",
       "      <th>40</th>\n",
       "      <td>19.336735</td>\n",
       "      <td>0.226468</td>\n",
       "    </tr>\n",
       "    <tr>\n",
       "      <th>41</th>\n",
       "      <td>19.632653</td>\n",
       "      <td>0.230106</td>\n",
       "    </tr>\n",
       "    <tr>\n",
       "      <th>42</th>\n",
       "      <td>19.928571</td>\n",
       "      <td>0.233742</td>\n",
       "    </tr>\n",
       "    <tr>\n",
       "      <th>43</th>\n",
       "      <td>20.224490</td>\n",
       "      <td>0.237376</td>\n",
       "    </tr>\n",
       "    <tr>\n",
       "      <th>44</th>\n",
       "      <td>20.520408</td>\n",
       "      <td>0.241009</td>\n",
       "    </tr>\n",
       "    <tr>\n",
       "      <th>45</th>\n",
       "      <td>20.816327</td>\n",
       "      <td>0.244640</td>\n",
       "    </tr>\n",
       "    <tr>\n",
       "      <th>46</th>\n",
       "      <td>21.112245</td>\n",
       "      <td>0.248269</td>\n",
       "    </tr>\n",
       "    <tr>\n",
       "      <th>47</th>\n",
       "      <td>21.408163</td>\n",
       "      <td>0.251897</td>\n",
       "    </tr>\n",
       "    <tr>\n",
       "      <th>48</th>\n",
       "      <td>21.704082</td>\n",
       "      <td>0.255524</td>\n",
       "    </tr>\n",
       "    <tr>\n",
       "      <th>49</th>\n",
       "      <td>22.000000</td>\n",
       "      <td>0.259149</td>\n",
       "    </tr>\n",
       "  </tbody>\n",
       "</table>\n",
       "</div>"
      ],
      "text/plain": [
       "    PPA price       IRR\n",
       "0    7.500000  0.078695\n",
       "1    7.795918  0.082466\n",
       "2    8.091837  0.086232\n",
       "3    8.387755  0.089992\n",
       "4    8.683673  0.093748\n",
       "5    8.979592  0.097499\n",
       "6    9.275510  0.101245\n",
       "7    9.571429  0.104986\n",
       "8    9.867347  0.108722\n",
       "9   10.163265  0.112455\n",
       "10  10.459184  0.116182\n",
       "11  10.755102  0.119906\n",
       "12  11.051020  0.123625\n",
       "13  11.346939  0.127341\n",
       "14  11.642857  0.131052\n",
       "15  11.938776  0.134760\n",
       "16  12.234694  0.138464\n",
       "17  12.530612  0.142164\n",
       "18  12.826531  0.145861\n",
       "19  13.122449  0.149554\n",
       "20  13.418367  0.153245\n",
       "21  13.714286  0.156931\n",
       "22  14.010204  0.160615\n",
       "23  14.306122  0.164295\n",
       "24  14.602041  0.167973\n",
       "25  14.897959  0.171647\n",
       "26  15.193878  0.175319\n",
       "27  15.489796  0.178988\n",
       "28  15.785714  0.182655\n",
       "29  16.081633  0.186318\n",
       "30  16.377551  0.189980\n",
       "31  16.673469  0.193638\n",
       "32  16.969388  0.197295\n",
       "33  17.265306  0.200949\n",
       "34  17.561224  0.204601\n",
       "35  17.857143  0.208250\n",
       "36  18.153061  0.211898\n",
       "37  18.448980  0.215543\n",
       "38  18.744898  0.219187\n",
       "39  19.040816  0.222828\n",
       "40  19.336735  0.226468\n",
       "41  19.632653  0.230106\n",
       "42  19.928571  0.233742\n",
       "43  20.224490  0.237376\n",
       "44  20.520408  0.241009\n",
       "45  20.816327  0.244640\n",
       "46  21.112245  0.248269\n",
       "47  21.408163  0.251897\n",
       "48  21.704082  0.255524\n",
       "49  22.000000  0.259149"
      ]
     },
     "execution_count": 29,
     "metadata": {},
     "output_type": "execute_result"
    }
   ],
   "source": [
    "pd.DataFrame({\n",
    "    'PPA price': PPA_prices,\n",
    "    'IRR': iir_vals,\n",
    "})"
   ]
  },
  {
   "cell_type": "code",
   "execution_count": null,
   "metadata": {},
   "outputs": [],
   "source": []
  },
  {
   "cell_type": "markdown",
   "metadata": {},
   "source": [
    "<h3><i><font color=#CB4335>4) Sensitivity: Investment costs</font></i></h3></font>"
   ]
  },
  {
   "cell_type": "code",
   "execution_count": 30,
   "metadata": {},
   "outputs": [],
   "source": [
    "# Uses the ff. parameters defined above:\n",
    "#    Sys_kW, tax_credit_perc\n",
    "#    solar_yield, PPA_elec_price, L, deg_early, deg_cons\n",
    "\n",
    "# ............................................................ a) Costs per USD\n",
    "nom_syscost_USDperW = est_systemcosts(10**-3).sum()\n",
    "nom_Invcost_USDperW = (1-tax_credit_perc/100)*nom_syscost_USDperW\n",
    "\n",
    "# ............................................................ b) Set-up x-axis vector [Inv cost in USD/W]\n",
    "_include = (0.95, 1, 1.1, 1.2)\n",
    "pu_Invcosts = np.linspace(0.9, 1.2)\n",
    "\n",
    "for val in _include:\n",
    "    if val not in pu_Invcosts:\n",
    "        pu_Invcosts = np.append(pu_Invcosts, val)\n",
    "        \n",
    "pu_Invcosts.sort()\n",
    "\n",
    "vec_Invcosts_USDperW = np.append(pu_Invcosts*nom_Invcost_USDperW, nom_syscost_USDperW)\n",
    "#                                nominal -10% to +20%             unsubsidized (+35% nominal)\n",
    "\n",
    "# ............................................................ c) Vectors: Total investment, Resale, IRR init\n",
    "vec_Invcosts_USD = Sys_kW * 10**3 * vec_Invcosts_USDperW\n",
    "vec_Resale_USD = 0.75 * vec_Invcosts_USD\n",
    "\n",
    "IRRs = np.zeros_like(vec_Invcosts_USD)\n",
    "\n",
    "# ............................................................ d) Calculate cashflows & IRR\n",
    "for idx, _InvCost_USD in enumerate(vec_Invcosts_USD):\n",
    "    cashflows, AnnualProduction_kWh = calc_cashflows(_InvCost_USD, Sys_kW, solar_yield, PPA_elec_price, L, vec_Resale_USD[idx], deg_early, deg_cons)\n",
    "    IRRs[idx] = npf.irr(cashflows)\n"
   ]
  },
  {
   "cell_type": "code",
   "execution_count": 32,
   "metadata": {
    "scrolled": false
   },
   "outputs": [
    {
     "data": {
      "image/png": "[encoded data removed]",
      "text/plain": [
       "<Figure size 576x432 with 1 Axes>"
      ]
     },
     "metadata": {
      "needs_background": "light"
     },
     "output_type": "display_data"
    }
   ],
   "source": [
    "plot_InvCost_sensitivity(vec_Invcosts_USDperW, IRRs, pu_Invcosts, markitems = (-5, 0, 10, 20), save_as='Sensitivity to investment costs.png')"
   ]
  },
  {
   "cell_type": "code",
   "execution_count": null,
   "metadata": {},
   "outputs": [],
   "source": []
  },
  {
   "cell_type": "code",
   "execution_count": null,
   "metadata": {},
   "outputs": [],
   "source": []
  },
  {
   "cell_type": "code",
   "execution_count": null,
   "metadata": {},
   "outputs": [],
   "source": []
  },
  {
   "cell_type": "code",
   "execution_count": null,
   "metadata": {},
   "outputs": [],
   "source": []
  },
  {
   "cell_type": "code",
   "execution_count": null,
   "metadata": {},
   "outputs": [],
   "source": []
  },
  {
   "cell_type": "markdown",
   "metadata": {},
   "source": [
    "<h3><i><font color=#CB4335>Addtl Figures</font></i></h3></font>"
   ]
  },
  {
   "cell_type": "code",
   "execution_count": null,
   "metadata": {},
   "outputs": [],
   "source": []
  },
  {
   "cell_type": "code",
   "execution_count": null,
   "metadata": {},
   "outputs": [],
   "source": []
  },
  {
   "cell_type": "code",
   "execution_count": null,
   "metadata": {},
   "outputs": [],
   "source": []
  },
  {
   "cell_type": "code",
   "execution_count": null,
   "metadata": {},
   "outputs": [],
   "source": []
  },
  {
   "cell_type": "code",
   "execution_count": null,
   "metadata": {},
   "outputs": [],
   "source": [
    "calc_annualprod"
   ]
  },
  {
   "cell_type": "code",
   "execution_count": null,
   "metadata": {},
   "outputs": [],
   "source": [
    "calc_annualprod(25)"
   ]
  },
  {
   "cell_type": "code",
   "execution_count": null,
   "metadata": {},
   "outputs": [],
   "source": [
    "calc_annualprod(25, deg_early=3)"
   ]
  },
  {
   "cell_type": "code",
   "execution_count": null,
   "metadata": {},
   "outputs": [],
   "source": [
    "calc_annualprod(25, deg_cons=0.5)"
   ]
  },
  {
   "cell_type": "code",
   "execution_count": null,
   "metadata": {},
   "outputs": [],
   "source": []
  }
 ],
 "metadata": {
  "kernelspec": {
   "display_name": "Python 3",
   "language": "python",
   "name": "python3"
  },
  "language_info": {
   "codemirror_mode": {
    "name": "ipython",
    "version": 3
   },
   "file_extension": ".py",
   "mimetype": "text/x-python",
   "name": "python",
   "nbconvert_exporter": "python",
   "pygments_lexer": "ipython3",
   "version": "3.6.5"
  }
 },
 "nbformat": 4,
 "nbformat_minor": 4
}
